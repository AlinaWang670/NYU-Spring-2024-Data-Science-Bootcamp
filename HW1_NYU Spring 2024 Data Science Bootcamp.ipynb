{
 "cells": [
  {
   "cell_type": "markdown",
   "id": "dd93bbea",
   "metadata": {},
   "source": [
    "### Hw1\n",
    "1. Write a function  count_vowels(word) that takes a word as an argument and returns the number of vowels in the word\n",
    "2. Iterate through the following list of animals and print each one in all caps.\n",
    "\n",
    "\n",
    "  animals=['tiger', 'elephant', 'monkey', 'zebra', 'panther']\n",
    "\n",
    "\n",
    "3. Write a program that iterates from 1 to 20, printing each number and whether it's odd or even.\n",
    "4. Write a function sum_of_integers(a, b) that takes two integers as input from the user and returns their sum."
   ]
  },
  {
   "cell_type": "code",
   "execution_count": 6,
   "id": "5b2f87a3",
   "metadata": {},
   "outputs": [],
   "source": [
    "#Q1\n",
    "def count_vowels(word):\n",
    "    count = 0\n",
    "    vo = ['a','e','i','o','u']\n",
    "    for letter in word:\n",
    "        if letter in vo:\n",
    "            count += 1\n",
    "    return count\n"
   ]
  },
  {
   "cell_type": "code",
   "execution_count": 7,
   "id": "f2552414",
   "metadata": {},
   "outputs": [
    {
     "data": {
      "text/plain": [
       "3"
      ]
     },
     "execution_count": 7,
     "metadata": {},
     "output_type": "execute_result"
    }
   ],
   "source": [
    "count_vowels('about')"
   ]
  },
  {
   "cell_type": "code",
   "execution_count": 9,
   "id": "9828dc9d",
   "metadata": {},
   "outputs": [
    {
     "name": "stdout",
     "output_type": "stream",
     "text": [
      "TIGER\n",
      "ELEPHANT\n",
      "MONKEY\n",
      "ZEBRA\n",
      "PANTHER\n"
     ]
    }
   ],
   "source": [
    "#Q2\n",
    "animals=['tiger', 'elephant', 'monkey', 'zebra', 'panther']\n",
    "for item in animals:\n",
    "    print(item.upper())"
   ]
  },
  {
   "cell_type": "code",
   "execution_count": 17,
   "id": "3c06355a",
   "metadata": {},
   "outputs": [
    {
     "name": "stdout",
     "output_type": "stream",
     "text": [
      "1  is odd\n",
      "2  is even\n",
      "3  is odd\n",
      "4  is even\n",
      "5  is odd\n",
      "6  is even\n",
      "7  is odd\n",
      "8  is even\n",
      "9  is odd\n",
      "10  is even\n",
      "11  is odd\n",
      "12  is even\n",
      "13  is odd\n",
      "14  is even\n",
      "15  is odd\n",
      "16  is even\n",
      "17  is odd\n",
      "18  is even\n",
      "19  is odd\n",
      "20  is even\n"
     ]
    }
   ],
   "source": [
    "#Q3\n",
    "for i in range(1,21):\n",
    "    if i%2 == 0:\n",
    "        a = 'even'\n",
    "    else: \n",
    "        a = 'odd'\n",
    "    print(i,' is '+a)"
   ]
  },
  {
   "cell_type": "code",
   "execution_count": 18,
   "id": "26594bee",
   "metadata": {},
   "outputs": [
    {
     "data": {
      "text/plain": [
       "8"
      ]
     },
     "execution_count": 18,
     "metadata": {},
     "output_type": "execute_result"
    }
   ],
   "source": [
    "#Q4\n",
    "def sum_of_integers(a, b):\n",
    "    return a+b\n",
    "sum_of_integers(3,5)"
   ]
  }
 ],
 "metadata": {
  "kernelspec": {
   "display_name": "Python 3 (ipykernel)",
   "language": "python",
   "name": "python3"
  },
  "language_info": {
   "codemirror_mode": {
    "name": "ipython",
    "version": 3
   },
   "file_extension": ".py",
   "mimetype": "text/x-python",
   "name": "python",
   "nbconvert_exporter": "python",
   "pygments_lexer": "ipython3",
   "version": "3.11.4"
  }
 },
 "nbformat": 4,
 "nbformat_minor": 5
}
